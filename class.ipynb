{
 "cells": [
  {
   "cell_type": "code",
   "execution_count": 1,
   "id": "a2456be2",
   "metadata": {},
   "outputs": [],
   "source": [
    "class PartyAnimal:\n",
    "    def __init__(self,x,y):\n",
    "        print(\"1 start\")\n",
    "        self.x = x\n",
    "        self.y = y\n",
    "    def party(self,z=1) :\n",
    "        self.x = self.x + z\n",
    "        self.y = self.x + self.y\n",
    "        print(\"x:\",self.x)\n",
    "        print(\"y:\", self.y)\n",
    "    def __del__(self):\n",
    "        print(\"PartyAniaml Die\")\n",
    "        \n",
    "an = PartyAnimal(10,10)\n",
    "bn = PartyAnimal(1,1)"
   ]
  },
  {
   "cell_type": "code",
   "execution_count": 2,
   "id": "ef338b91",
   "metadata": {},
   "outputs": [
    {
     "name": "stdout",
     "output_type": "stream",
     "text": [
      "x: 11\n",
      "y: 21\n",
      "x: 12\n",
      "y: 33\n",
      "x: 13\n",
      "y: 46\n"
     ]
    }
   ],
   "source": [
    "an.party()\n",
    "an.party()\n",
    "an.party()"
   ]
  },
  {
   "cell_type": "code",
   "execution_count": 3,
   "id": "17ed0a45",
   "metadata": {},
   "outputs": [
    {
     "name": "stdout",
     "output_type": "stream",
     "text": [
      "PartyAniaml Die\n"
     ]
    }
   ],
   "source": [
    "an = 0"
   ]
  },
  {
   "cell_type": "code",
   "execution_count": 22,
   "id": "932bd2e9",
   "metadata": {},
   "outputs": [],
   "source": [
    "class PartyAnimal_v2(PartyAnimal):\n",
    "    a = 1\n",
    "    b= 2\n",
    "    def __init__(self,x,y):         # 상속될 때 init을 다시 작성하면 수정됨\n",
    "        print(\"2 start\")\n",
    "        self.x = x\n",
    "        self.y = y\n",
    "    def party2(self,z=1) :\n",
    "        self.a = self.a + z\n",
    "        self.b = self.b + self.a\n",
    "        print(\"a:\",self.a)\n",
    "        print(\"b:\", self.b)"
   ]
  },
  {
   "cell_type": "code",
   "execution_count": 23,
   "id": "fb22be59",
   "metadata": {},
   "outputs": [
    {
     "name": "stdout",
     "output_type": "stream",
     "text": [
      "2 start\n"
     ]
    }
   ],
   "source": [
    "cn = PartyAnimal_v2(1,1)"
   ]
  },
  {
   "cell_type": "code",
   "execution_count": 24,
   "id": "098ed4f0",
   "metadata": {},
   "outputs": [
    {
     "name": "stdout",
     "output_type": "stream",
     "text": [
      "x: 2\n",
      "y: 3\n"
     ]
    }
   ],
   "source": [
    "cn.party()"
   ]
  },
  {
   "cell_type": "code",
   "execution_count": 18,
   "id": "e65a129a",
   "metadata": {},
   "outputs": [
    {
     "name": "stdout",
     "output_type": "stream",
     "text": [
      "a: 2\n",
      "b: 4\n"
     ]
    }
   ],
   "source": [
    "cn.party2()"
   ]
  }
 ],
 "metadata": {
  "kernelspec": {
   "display_name": "Python 3 (ipykernel)",
   "language": "python",
   "name": "python3"
  },
  "language_info": {
   "codemirror_mode": {
    "name": "ipython",
    "version": 3
   },
   "file_extension": ".py",
   "mimetype": "text/x-python",
   "name": "python",
   "nbconvert_exporter": "python",
   "pygments_lexer": "ipython3",
   "version": "3.9.12"
  }
 },
 "nbformat": 4,
 "nbformat_minor": 5
}
